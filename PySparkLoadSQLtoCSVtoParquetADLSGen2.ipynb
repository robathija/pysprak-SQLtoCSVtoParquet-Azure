{
 "metadata": {
  "language_info": {
   "codemirror_mode": {
    "name": "ipython",
    "version": 3
   },
   "file_extension": ".py",
   "mimetype": "text/x-python",
   "name": "python",
   "nbconvert_exporter": "python",
   "pygments_lexer": "ipython3",
   "version": 3
  },
  "orig_nbformat": 2
 },
 "nbformat": 4,
 "nbformat_minor": 2,
 "cells": [
  {
   "source": [
    "Mount Databricks Spark Cluster to Azure Data Lake Storage Gen2"
   ],
   "cell_type": "markdown",
   "metadata": {}
  },
  {
   "cell_type": "code",
   "execution_count": null,
   "metadata": {},
   "outputs": [],
   "source": [
    "configs = {\"fs.azure.account.auth.type\": \"OAuth\",\n",
    "           \"fs.azure.account.oauth.provider.type\": \"org.apache.hadoop.fs.azurebfs.oauth2.ClientCredsTokenProvider\",\n",
    "           \"fs.azure.account.oauth2.client.id\": \"0658bce5-1ede-408c-acec-c4e08a6f065b\",\n",
    "           \"fs.azure.account.oauth2.client.secret\": \"D1lV4__8_2PIcD-5ly_VOH9o97fksO-X6g\",\n",
    "           \"fs.azure.account.oauth2.client.endpoint\": \"https://login.microsoftonline.com/887b06c4-f57c-46e5-9eb3-902d20211d97/oauth2/token\"}\n",
    "\n",
    "# Optionally, you can add <directory-name> to the source URI of your mount point.\n",
    "dbutils.fs.mount(\n",
    "  source = \"abfss://adlsdatabrickscontainer@adlsdatabricksstorage.dfs.core.windows.net/\",\n",
    "  mount_point = \"/mnt/datalakegen2storage\",\n",
    "  extra_configs = configs)"
   ]
  },
  {
   "source": [
    "Check for files if mounted correctly"
   ],
   "cell_type": "markdown",
   "metadata": {}
  },
  {
   "cell_type": "code",
   "execution_count": null,
   "metadata": {},
   "outputs": [],
   "source": [
    "display(dbutils.fs.ls(\"/mnt/datalakegen2storage\"))"
   ]
  },
  {
   "source": [
    "Load data into data frame and transform/clean data"
   ],
   "cell_type": "markdown",
   "metadata": {}
  },
  {
   "cell_type": "code",
   "execution_count": null,
   "metadata": {},
   "outputs": [],
   "source": [
    "df = spark.read.option(\"header\",\"true\").format(\"csv\").load(\"/mnt/datalakegen2storage/YellowTaxiTripData.csv\")\n",
    "\n",
    "#Describe some columns\n",
    "display(df.describe(\"passenger_count\",\"trip_distance\"))\n",
    "\n",
    "#Filter data and NULLS\n",
    "df = df.where(\"passenger_count > 0 and trip_distance > 0.0\")\n",
    "df = df.na.drop()\n",
    "display(df)\n",
    "\n",
    "#get count after filter\n",
    "df.count()\n",
    "\n",
    "#Rename some columns with ambigious names\n",
    "df = df.withColumnRenamed(\"PULocationID\",\"PickUpLocationID\").withColumnRenamed(\"DOLocationID\",\"DropOffLocationID\")\n",
    "display(df)\n",
    "\n",
    "#Write data back to data lake/hadoop/blob storage\n",
    "df.write.option(\"header\",\"true\").option(\"dateFormat\",\"yyyy-MM-dd HH:mm:ss.S\").mode(\"overwrite\").parquet(\"/mnt/datalakegen2storage/ProcessedParquet/YellowTaxiTripData.parquet\")"
   ]
  }
 ]
}